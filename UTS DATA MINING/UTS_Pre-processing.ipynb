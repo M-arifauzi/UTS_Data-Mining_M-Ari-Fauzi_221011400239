{
 "cells": [
  {
   "cell_type": "code",
   "execution_count": 1,
   "id": "b4b3b640-1145-4c8f-bded-36f481d9cf8b",
   "metadata": {},
   "outputs": [],
   "source": [
    "import pandas as pd"
   ]
  },
  {
   "cell_type": "code",
   "execution_count": 2,
   "id": "bfc70a08-6111-4b3b-8497-58e338efc3bf",
   "metadata": {},
   "outputs": [],
   "source": [
    "data_startup = pd.read_csv('50_Startups.csv')"
   ]
  },
  {
   "cell_type": "code",
   "execution_count": 3,
   "id": "9db3f7d1-d4de-4004-9f77-289a4d033005",
   "metadata": {},
   "outputs": [
    {
     "data": {
      "text/html": [
       "<div>\n",
       "<style scoped>\n",
       "    .dataframe tbody tr th:only-of-type {\n",
       "        vertical-align: middle;\n",
       "    }\n",
       "\n",
       "    .dataframe tbody tr th {\n",
       "        vertical-align: top;\n",
       "    }\n",
       "\n",
       "    .dataframe thead th {\n",
       "        text-align: right;\n",
       "    }\n",
       "</style>\n",
       "<table border=\"1\" class=\"dataframe\">\n",
       "  <thead>\n",
       "    <tr style=\"text-align: right;\">\n",
       "      <th></th>\n",
       "      <th>R&amp;D Spend</th>\n",
       "      <th>Administration</th>\n",
       "      <th>Marketing Spend</th>\n",
       "      <th>State</th>\n",
       "      <th>Profit</th>\n",
       "    </tr>\n",
       "  </thead>\n",
       "  <tbody>\n",
       "    <tr>\n",
       "      <th>45</th>\n",
       "      <td>1000.23</td>\n",
       "      <td>124153.04</td>\n",
       "      <td>1903.93</td>\n",
       "      <td>New York</td>\n",
       "      <td>64926.08</td>\n",
       "    </tr>\n",
       "    <tr>\n",
       "      <th>47</th>\n",
       "      <td>NaN</td>\n",
       "      <td>135426.92</td>\n",
       "      <td>NaN</td>\n",
       "      <td>California</td>\n",
       "      <td>42559.73</td>\n",
       "    </tr>\n",
       "    <tr>\n",
       "      <th>27</th>\n",
       "      <td>72107.60</td>\n",
       "      <td>127864.55</td>\n",
       "      <td>353183.81</td>\n",
       "      <td>New York</td>\n",
       "      <td>105008.31</td>\n",
       "    </tr>\n",
       "    <tr>\n",
       "      <th>6</th>\n",
       "      <td>134615.46</td>\n",
       "      <td>147198.87</td>\n",
       "      <td>127716.82</td>\n",
       "      <td>California</td>\n",
       "      <td>156122.51</td>\n",
       "    </tr>\n",
       "    <tr>\n",
       "      <th>42</th>\n",
       "      <td>23640.93</td>\n",
       "      <td>96189.63</td>\n",
       "      <td>148001.11</td>\n",
       "      <td>California</td>\n",
       "      <td>71498.49</td>\n",
       "    </tr>\n",
       "    <tr>\n",
       "      <th>38</th>\n",
       "      <td>20229.59</td>\n",
       "      <td>65947.93</td>\n",
       "      <td>NaN</td>\n",
       "      <td>New York</td>\n",
       "      <td>81229.06</td>\n",
       "    </tr>\n",
       "    <tr>\n",
       "      <th>46</th>\n",
       "      <td>1315.46</td>\n",
       "      <td>115816.21</td>\n",
       "      <td>297114.46</td>\n",
       "      <td>Florida</td>\n",
       "      <td>49490.75</td>\n",
       "    </tr>\n",
       "  </tbody>\n",
       "</table>\n",
       "</div>"
      ],
      "text/plain": [
       "    R&D Spend  Administration  Marketing Spend       State     Profit\n",
       "45    1000.23       124153.04          1903.93    New York   64926.08\n",
       "47        NaN       135426.92              NaN  California   42559.73\n",
       "27   72107.60       127864.55        353183.81    New York  105008.31\n",
       "6   134615.46       147198.87        127716.82  California  156122.51\n",
       "42   23640.93        96189.63        148001.11  California   71498.49\n",
       "38   20229.59        65947.93              NaN    New York   81229.06\n",
       "46    1315.46       115816.21        297114.46     Florida   49490.75"
      ]
     },
     "execution_count": 3,
     "metadata": {},
     "output_type": "execute_result"
    }
   ],
   "source": [
    "data_startup.sample(7)"
   ]
  },
  {
   "cell_type": "code",
   "execution_count": 1,
   "id": "ac23d8a1-56d8-4527-8a30-e6990738c26f",
   "metadata": {},
   "outputs": [
    {
     "name": "stdout",
     "output_type": "stream",
     "text": [
      "     R&D Spend  Administration  Marketing Spend       State         Profit\n",
      "4   142107.340        91391.77    366168.420000     Florida  166187.940000\n",
      "5   131876.900        99814.71    362861.360000    New York  156991.120000\n",
      "16   78013.110       121597.55    264346.060000  California  126992.930000\n",
      "47   76788.862       135426.92    223582.690222  California   42559.730000\n",
      "0   165349.200       136897.80    471784.100000    New York  192261.830000\n",
      "13   91992.390       135495.07    252664.930000  California  111850.855208\n",
      "25   64664.710       139553.16    137962.620000  California  107404.340000\n"
     ]
    }
   ],
   "source": [
    "#1 Lakukan analisa mengenai field mana saja yang memiliki data kosong(Nan) lalu Isi data yang kosong tersebut menggunakan nilai mean\n",
    "\n",
    "import pandas as pd\n",
    "\n",
    "# Membaca data dari file CSV\n",
    "data_startup = pd.read_csv('50_Startups.csv')\n",
    "\n",
    "# Menemukan kolom yang memiliki data kosong (NaN)\n",
    "missing_data_columns = data_startup.columns[data_startup.isnull().any()].tolist()\n",
    "\n",
    "# Menghitung nilai mean untuk setiap kolom yang memiliki data kosong\n",
    "mean_values = {column: data_startup[column].mean() for column in missing_data_columns}\n",
    "\n",
    "# Mengisi data kosong dengan nilai mean\n",
    "data_startup.fillna(mean_values, inplace=True)\n",
    "\n",
    "# Menampilkan hasil pre-processing\n",
    "print(data_startup.sample(7))"
   ]
  },
  {
   "cell_type": "code",
   "execution_count": 2,
   "id": "42926356-4f97-4af5-8bf7-107fe35965c3",
   "metadata": {},
   "outputs": [
    {
     "name": "stdout",
     "output_type": "stream",
     "text": [
      "    R&D Spend  Administration  Marketing Spend     Profit  State_California  \\\n",
      "44   22177.74       154806.14         28334.72   65200.33              True   \n",
      "33   55493.95       103057.49        214634.81   96778.92             False   \n",
      "17   94657.16       145077.58        282574.31  125370.37             False   \n",
      "28   66051.52       182645.56        118148.20  103282.38             False   \n",
      "10        NaN       110594.11        229160.95  146121.95             False   \n",
      "23        NaN       105751.03              NaN  108733.99             False   \n",
      "3   144372.41       118671.85        383199.62  182901.99             False   \n",
      "\n",
      "    State_Florida  State_New York  \n",
      "44          False           False  \n",
      "33           True           False  \n",
      "17          False            True  \n",
      "28           True           False  \n",
      "10           True           False  \n",
      "23           True           False  \n",
      "3           False            True  \n"
     ]
    }
   ],
   "source": [
    "#2 lakukan oneHotEncoder ke field state\n",
    "\n",
    "import pandas as pd\n",
    "\n",
    "# Membaca data dari file CSV\n",
    "data_startup = pd.read_csv('50_Startups.csv')\n",
    "\n",
    "# Melakukan one-hot encoding pada kolom 'State'\n",
    "data_encoded = pd.get_dummies(data_startup, columns=['State'])\n",
    "\n",
    "# Menampilkan hasil encoding\n",
    "print(data_encoded.sample(7))"
   ]
  },
  {
   "cell_type": "code",
   "execution_count": 3,
   "id": "fc6bc3c0-1908-46cc-a064-ec8e9edb658b",
   "metadata": {},
   "outputs": [
    {
     "name": "stdout",
     "output_type": "stream",
     "text": [
      "    R&D Spend  Administration  Marketing Spend       State     Profit  \\\n",
      "42   23640.93        96189.63        148001.11  California   71498.49   \n",
      "49        NaN       116983.80         45173.06  California   14681.40   \n",
      "11  100671.96        91790.61        249744.55  California  144259.40   \n",
      "22   73994.56       122782.75        303319.26     Florida  110352.25   \n",
      "18   91749.16       114175.79        294919.57     Florida  124266.90   \n",
      "9   123334.88       108679.17        304981.62  California  149759.96   \n",
      "41   27892.92        84710.77        164470.71     Florida   77798.83   \n",
      "\n",
      "           Tax  \n",
      "42  15784.4615  \n",
      "49   8841.9130  \n",
      "11  24289.7280  \n",
      "22  26822.7130  \n",
      "18  26668.1130  \n",
      "9   28171.0375  \n",
      "41  16349.0155  \n"
     ]
    }
   ],
   "source": [
    "#3 buat field baru yaitu Tax. dimana Tax = (profit + Marketing Spend + administration) * 5%\n",
    "\n",
    "import pandas as pd\n",
    "\n",
    "# Membaca data dari file CSV\n",
    "data_startup = pd.read_csv('50_Startups.csv')\n",
    "\n",
    "# Menghitung Tax berdasarkan rumus yang diberikan\n",
    "data_startup['Tax'] = (data_startup['Profit'] + data_startup['Marketing Spend'] + data_startup['Administration']) * 0.05\n",
    "\n",
    "# Menampilkan hasil dengan kolom Tax baru\n",
    "print(data_startup.sample(7))"
   ]
  },
  {
   "cell_type": "code",
   "execution_count": 4,
   "id": "7ecc93bd-d249-4fe9-b897-bb0c3cddb4cb",
   "metadata": {},
   "outputs": [
    {
     "name": "stdout",
     "output_type": "stream",
     "text": [
      "    R&D Spend  Administration  Marketing Spend       State    Profit\n",
      "0    1.969800        0.537431         2.181258    New York  1.983399\n",
      "13   0.338164        0.483994         0.255582  California       NaN\n",
      "17   0.397435        0.849040         0.518434    New York  0.333469\n",
      "26  -0.032474        0.813169        -0.786836     Florida -0.150888\n",
      "44  -1.214686        1.219649        -1.715890  California -1.150671\n",
      "14   0.959859        1.285983         0.289399     Florida  0.511859\n",
      "9    1.035298       -0.537558         0.715355  California  0.935057\n"
     ]
    }
   ],
   "source": [
    "#4 Jalankan standardScaler field-field tersebut\n",
    "\n",
    "from sklearn.preprocessing import StandardScaler\n",
    "import pandas as pd\n",
    "\n",
    "# Membaca data dari file CSV\n",
    "data_startup = pd.read_csv('50_Startups.csv')\n",
    "\n",
    "# Mengambil kolom numerik untuk scaling\n",
    "numeric_columns = data_startup.select_dtypes(include=['float64', 'int64']).columns\n",
    "\n",
    "# Inisialisasi StandardScaler\n",
    "scaler = StandardScaler()\n",
    "\n",
    "# Fitting dan transformasi data\n",
    "data_startup[numeric_columns] = scaler.fit_transform(data_startup[numeric_columns])\n",
    "\n",
    "# Menampilkan hasil scaling\n",
    "print(data_startup.sample(7))"
   ]
  },
  {
   "cell_type": "code",
   "execution_count": null,
   "id": "467ba6ac-65d8-4e7d-89fc-f7c95c0aeb84",
   "metadata": {},
   "outputs": [],
   "source": []
  }
 ],
 "metadata": {
  "kernelspec": {
   "display_name": "Python 3 (ipykernel)",
   "language": "python",
   "name": "python3"
  },
  "language_info": {
   "codemirror_mode": {
    "name": "ipython",
    "version": 3
   },
   "file_extension": ".py",
   "mimetype": "text/x-python",
   "name": "python",
   "nbconvert_exporter": "python",
   "pygments_lexer": "ipython3",
   "version": "3.11.7"
  }
 },
 "nbformat": 4,
 "nbformat_minor": 5
}
